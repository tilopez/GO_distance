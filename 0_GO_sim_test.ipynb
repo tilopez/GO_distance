{
  "nbformat": 4,
  "nbformat_minor": 0,
  "metadata": {
    "colab": {
      "name": "0- GO_sim_test.ipynb",
      "provenance": [],
      "collapsed_sections": [],
      "toc_visible": true,
      "include_colab_link": true
    },
    "kernelspec": {
      "name": "python3",
      "display_name": "Python 3"
    }
  },
  "cells": [
    {
      "cell_type": "markdown",
      "metadata": {
        "id": "view-in-github",
        "colab_type": "text"
      },
      "source": [
        "<a href=\"https://colab.research.google.com/github/tilopez/GO_distance/blob/master/0_GO_sim_test.ipynb\" target=\"_parent\"><img src=\"https://colab.research.google.com/assets/colab-badge.svg\" alt=\"Open In Colab\"/></a>"
      ]
    },
    {
      "cell_type": "markdown",
      "metadata": {
        "id": "wC3UQDEsEItb",
        "colab_type": "text"
      },
      "source": [
        "# Resúmen del trabajo sobre medidas de similaridad semántica\n",
        "\n",
        "Al trabajar con la ontología genética es necesario una medida que permita comparar términos de la misma, para esto se definen las medidas de similaridad semántica: funciones que dados dos elementos de la ontología (o dos conjuntos de elementos) devuelven un valor que representa su cercanía dentro del grafo. Dentro de las medidas más relevantes se encuentra las de Resnik, Lin y Schlicker (para comparar funciones) y el promedio, el mínimo, el máximo de las anteriores, junto con la medida de coseno (para comparar conjuntos de funciones). Todas estas medidas tienen aciertos y errores con respecto a que información de la ontología logran representar, esto se puede identificar cuando se realizan pruebas, puesto que tampoco se cuenta con una medida estándar de evaluación de dichas medidas. Por esto la importancia de encontrar una medida de similaridad que contenga toda la información de la ontología y que, de ser posible, tenga una forma directa de medir su bondad.\n"
      ]
    },
    {
      "cell_type": "markdown",
      "metadata": {
        "id": "jZShvKvGlhtQ",
        "colab_type": "text"
      },
      "source": [
        "Códigos de para cargar librerías y hacer algunas pruebas."
      ]
    },
    {
      "cell_type": "code",
      "metadata": {
        "id": "ecFdhIXYL28T",
        "colab_type": "code",
        "outputId": "44239b80-25c3-47cc-b232-940e904043ec",
        "colab": {
          "base_uri": "https://localhost:8080/",
          "height": 1000
        }
      },
      "source": [
        "# instalar goatools y pygraphviz; descargar go\n",
        "!pip install goatools\n",
        "!apt-get install graphviz-dev\n",
        "!pip install pygraphviz\n",
        "!wget http://purl.obolibrary.org/obo/go/go-basic.obo"
      ],
      "execution_count": 0,
      "outputs": [
        {
          "output_type": "stream",
          "text": [
            "Collecting goatools\n",
            "\u001b[?25l  Downloading https://files.pythonhosted.org/packages/1f/cf/645e14ac1f179f80cfcc941526a2d8f4068a83ebcb86067d6948693b46d2/goatools-0.9.9.tar.gz (15.1MB)\n",
            "\u001b[K     |████████████████████████████████| 15.1MB 151kB/s \n",
            "\u001b[?25hRequirement already satisfied: pytest in /usr/local/lib/python3.6/dist-packages (from goatools) (3.6.4)\n",
            "Collecting pytest-cov\n",
            "  Downloading https://files.pythonhosted.org/packages/b9/54/3673ee8be482f81527678ac894276223b9814bb7262e4f730469bb7bf70e/pytest_cov-2.8.1-py2.py3-none-any.whl\n",
            "Requirement already satisfied: pandas in /usr/local/lib/python3.6/dist-packages (from goatools) (0.25.3)\n",
            "Requirement already satisfied: numpy in /usr/local/lib/python3.6/dist-packages (from goatools) (1.17.4)\n",
            "Requirement already satisfied: scipy in /usr/local/lib/python3.6/dist-packages (from goatools) (1.3.3)\n",
            "Collecting nose\n",
            "\u001b[?25l  Downloading https://files.pythonhosted.org/packages/15/d8/dd071918c040f50fa1cf80da16423af51ff8ce4a0f2399b7bf8de45ac3d9/nose-1.3.7-py3-none-any.whl (154kB)\n",
            "\u001b[K     |████████████████████████████████| 163kB 49.0MB/s \n",
            "\u001b[?25hCollecting xlsxwriter\n",
            "\u001b[?25l  Downloading https://files.pythonhosted.org/packages/f2/16/da654cfbc0b05f2ad253c0f244b0c2a76c403bb774717b39c92653acb290/XlsxWriter-1.2.6-py2.py3-none-any.whl (141kB)\n",
            "\u001b[K     |████████████████████████████████| 143kB 47.4MB/s \n",
            "\u001b[?25hRequirement already satisfied: statsmodels in /usr/local/lib/python3.6/dist-packages (from goatools) (0.10.2)\n",
            "Requirement already satisfied: xlrd in /usr/local/lib/python3.6/dist-packages (from goatools) (1.1.0)\n",
            "Requirement already satisfied: docopt in /usr/local/lib/python3.6/dist-packages (from goatools) (0.6.2)\n",
            "Requirement already satisfied: pydot in /usr/local/lib/python3.6/dist-packages (from goatools) (1.3.0)\n",
            "Requirement already satisfied: requests in /usr/local/lib/python3.6/dist-packages (from goatools) (2.21.0)\n",
            "Collecting wget\n",
            "  Downloading https://files.pythonhosted.org/packages/47/6a/62e288da7bcda82b935ff0c6cfe542970f04e29c756b0e147251b2fb251f/wget-3.2.zip\n",
            "Requirement already satisfied: atomicwrites>=1.0 in /usr/local/lib/python3.6/dist-packages (from pytest->goatools) (1.3.0)\n",
            "Requirement already satisfied: setuptools in /usr/local/lib/python3.6/dist-packages (from pytest->goatools) (42.0.1)\n",
            "Requirement already satisfied: attrs>=17.4.0 in /usr/local/lib/python3.6/dist-packages (from pytest->goatools) (19.3.0)\n",
            "Requirement already satisfied: more-itertools>=4.0.0 in /usr/local/lib/python3.6/dist-packages (from pytest->goatools) (8.0.0)\n",
            "Requirement already satisfied: six>=1.10.0 in /usr/local/lib/python3.6/dist-packages (from pytest->goatools) (1.12.0)\n",
            "Requirement already satisfied: pluggy<0.8,>=0.5 in /usr/local/lib/python3.6/dist-packages (from pytest->goatools) (0.7.1)\n",
            "Requirement already satisfied: py>=1.5.0 in /usr/local/lib/python3.6/dist-packages (from pytest->goatools) (1.8.0)\n",
            "Collecting coverage>=4.4\n",
            "\u001b[?25l  Downloading https://files.pythonhosted.org/packages/51/b1/13609068fff1c8c056f0c4601ad6985cf5c1bbfc529196ab08bd2a57dc39/coverage-4.5.4-cp36-cp36m-manylinux1_x86_64.whl (205kB)\n",
            "\u001b[K     |████████████████████████████████| 215kB 48.7MB/s \n",
            "\u001b[?25hRequirement already satisfied: pytz>=2017.2 in /usr/local/lib/python3.6/dist-packages (from pandas->goatools) (2018.9)\n",
            "Requirement already satisfied: python-dateutil>=2.6.1 in /usr/local/lib/python3.6/dist-packages (from pandas->goatools) (2.6.1)\n",
            "Requirement already satisfied: patsy>=0.4.0 in /usr/local/lib/python3.6/dist-packages (from statsmodels->goatools) (0.5.1)\n",
            "Requirement already satisfied: pyparsing>=2.1.4 in /usr/local/lib/python3.6/dist-packages (from pydot->goatools) (2.4.5)\n",
            "Requirement already satisfied: urllib3<1.25,>=1.21.1 in /usr/local/lib/python3.6/dist-packages (from requests->goatools) (1.24.3)\n",
            "Requirement already satisfied: chardet<3.1.0,>=3.0.2 in /usr/local/lib/python3.6/dist-packages (from requests->goatools) (3.0.4)\n",
            "Requirement already satisfied: certifi>=2017.4.17 in /usr/local/lib/python3.6/dist-packages (from requests->goatools) (2019.11.28)\n",
            "Requirement already satisfied: idna<2.9,>=2.5 in /usr/local/lib/python3.6/dist-packages (from requests->goatools) (2.8)\n",
            "Building wheels for collected packages: goatools, wget\n",
            "  Building wheel for goatools (setup.py) ... \u001b[?25l\u001b[?25hdone\n",
            "  Created wheel for goatools: filename=goatools-0.9.9-cp36-none-any.whl size=15757842 sha256=7f4cf7197eadb33cd7c71366a1d6add05d5d35d8f4158d862d3e31a63570c072\n",
            "  Stored in directory: /root/.cache/pip/wheels/f1/a4/fe/f6167cf69ce3b53e45326b10e735cd1007780f2f4522f85a34\n",
            "  Building wheel for wget (setup.py) ... \u001b[?25l\u001b[?25hdone\n",
            "  Created wheel for wget: filename=wget-3.2-cp36-none-any.whl size=9681 sha256=18ebc06cfbf1c76ba7889947f91d65c10602138353cb542f6d4f022c9cd9dc14\n",
            "  Stored in directory: /root/.cache/pip/wheels/40/15/30/7d8f7cea2902b4db79e3fea550d7d7b85ecb27ef992b618f3f\n",
            "Successfully built goatools wget\n",
            "\u001b[31mERROR: datascience 0.10.6 has requirement coverage==3.7.1, but you'll have coverage 4.5.4 which is incompatible.\u001b[0m\n",
            "\u001b[31mERROR: datascience 0.10.6 has requirement folium==0.2.1, but you'll have folium 0.8.3 which is incompatible.\u001b[0m\n",
            "\u001b[31mERROR: coveralls 0.5 has requirement coverage<3.999,>=3.6, but you'll have coverage 4.5.4 which is incompatible.\u001b[0m\n",
            "Installing collected packages: coverage, pytest-cov, nose, xlsxwriter, wget, goatools\n",
            "  Found existing installation: coverage 3.7.1\n",
            "    Uninstalling coverage-3.7.1:\n",
            "      Successfully uninstalled coverage-3.7.1\n",
            "Successfully installed coverage-4.5.4 goatools-0.9.9 nose-1.3.7 pytest-cov-2.8.1 wget-3.2 xlsxwriter-1.2.6\n",
            "Reading package lists... Done\n",
            "Building dependency tree       \n",
            "Reading state information... Done\n",
            "Note, selecting 'libgraphviz-dev' instead of 'graphviz-dev'\n",
            "The following packages were automatically installed and are no longer required:\n",
            "  cuda-cufft-10-1 cuda-cufft-dev-10-1 cuda-curand-10-1 cuda-curand-dev-10-1\n",
            "  cuda-cusolver-10-1 cuda-cusolver-dev-10-1 cuda-cusparse-10-1\n",
            "  cuda-cusparse-dev-10-1 cuda-drivers cuda-license-10-2 cuda-npp-10-1\n",
            "  cuda-npp-dev-10-1 cuda-nsight-10-1 cuda-nsight-compute-10-1\n",
            "  cuda-nsight-systems-10-1 cuda-nvgraph-10-1 cuda-nvgraph-dev-10-1\n",
            "  cuda-nvjpeg-10-1 cuda-nvjpeg-dev-10-1 cuda-nvrtc-10-1 cuda-nvrtc-dev-10-1\n",
            "  cuda-nvvp-10-1 default-jre dkms freeglut3 freeglut3-dev\n",
            "  keyboard-configuration libargon2-0 libcap2 libcryptsetup12 libcublas10\n",
            "  libdevmapper1.02.1 libfontenc1 libidn11 libip4tc0 libjansson4\n",
            "  libnvidia-cfg1-440 libnvidia-common-430 libnvidia-common-440\n",
            "  libnvidia-decode-440 libnvidia-encode-440 libnvidia-fbc1-440\n",
            "  libnvidia-gl-440 libnvidia-ifr1-440 libpam-systemd libpolkit-agent-1-0\n",
            "  libpolkit-backend-1-0 libpolkit-gobject-1-0 libxfont2 libxi-dev libxkbfile1\n",
            "  libxmu-dev libxmu-headers libxnvctrl0 nsight-compute-2019.5.0\n",
            "  nsight-systems-2019.5.2 nvidia-compute-utils-440 nvidia-dkms-440\n",
            "  nvidia-driver-440 nvidia-kernel-common-440 nvidia-kernel-source-440\n",
            "  nvidia-modprobe nvidia-settings nvidia-utils-440 openjdk-11-jre policykit-1\n",
            "  policykit-1-gnome python3-xkit screen-resolution-extra systemd systemd-sysv\n",
            "  udev x11-xkb-utils xserver-common xserver-xorg-core-hwe-18.04\n",
            "  xserver-xorg-video-nvidia-440\n",
            "Use 'apt autoremove' to remove them.\n",
            "The following additional packages will be installed:\n",
            "  libgvc6-plugins-gtk libxdot4\n",
            "The following NEW packages will be installed:\n",
            "  libgraphviz-dev libgvc6-plugins-gtk libxdot4\n",
            "0 upgraded, 3 newly installed, 0 to remove and 5 not upgraded.\n",
            "Need to get 91.3 kB of archives.\n",
            "After this operation, 425 kB of additional disk space will be used.\n",
            "Get:1 http://archive.ubuntu.com/ubuntu bionic/universe amd64 libxdot4 amd64 2.40.1-2 [15.7 kB]\n",
            "Get:2 http://archive.ubuntu.com/ubuntu bionic/universe amd64 libgvc6-plugins-gtk amd64 2.40.1-2 [18.2 kB]\n",
            "Get:3 http://archive.ubuntu.com/ubuntu bionic/universe amd64 libgraphviz-dev amd64 2.40.1-2 [57.3 kB]\n",
            "Fetched 91.3 kB in 2s (55.5 kB/s)\n",
            "Selecting previously unselected package libxdot4.\n",
            "(Reading database ... 125048 files and directories currently installed.)\n",
            "Preparing to unpack .../libxdot4_2.40.1-2_amd64.deb ...\n",
            "Unpacking libxdot4 (2.40.1-2) ...\n",
            "Selecting previously unselected package libgvc6-plugins-gtk.\n",
            "Preparing to unpack .../libgvc6-plugins-gtk_2.40.1-2_amd64.deb ...\n",
            "Unpacking libgvc6-plugins-gtk (2.40.1-2) ...\n",
            "Selecting previously unselected package libgraphviz-dev.\n",
            "Preparing to unpack .../libgraphviz-dev_2.40.1-2_amd64.deb ...\n",
            "Unpacking libgraphviz-dev (2.40.1-2) ...\n",
            "Setting up libxdot4 (2.40.1-2) ...\n",
            "Setting up libgvc6-plugins-gtk (2.40.1-2) ...\n",
            "Setting up libgraphviz-dev (2.40.1-2) ...\n",
            "Processing triggers for man-db (2.8.3-2ubuntu0.1) ...\n",
            "Processing triggers for libc-bin (2.27-3ubuntu1) ...\n",
            "Collecting pygraphviz\n",
            "\u001b[?25l  Downloading https://files.pythonhosted.org/packages/7e/b1/d6d849ddaf6f11036f9980d433f383d4c13d1ebcfc3cd09bc845bda7e433/pygraphviz-1.5.zip (117kB)\n",
            "\u001b[K     |████████████████████████████████| 122kB 2.7MB/s \n",
            "\u001b[?25hBuilding wheels for collected packages: pygraphviz\n",
            "  Building wheel for pygraphviz (setup.py) ... \u001b[?25l\u001b[?25hdone\n",
            "  Created wheel for pygraphviz: filename=pygraphviz-1.5-cp36-cp36m-linux_x86_64.whl size=157575 sha256=d058ccb5f87702f0901b434075b89d0eb86f315c8700584931a5ef8567415f1b\n",
            "  Stored in directory: /root/.cache/pip/wheels/65/54/69/1aee9e66ab19916293208d4c9de0d3898adebe6b2eeff6476b\n",
            "Successfully built pygraphviz\n",
            "Installing collected packages: pygraphviz\n",
            "Successfully installed pygraphviz-1.5\n",
            "--2019-12-06 19:06:12--  http://purl.obolibrary.org/obo/go/go-basic.obo\n",
            "Resolving purl.obolibrary.org (purl.obolibrary.org)... 52.3.123.63\n",
            "Connecting to purl.obolibrary.org (purl.obolibrary.org)|52.3.123.63|:80... connected.\n",
            "HTTP request sent, awaiting response... 302 Found\n",
            "Location: http://current.geneontology.org/ontology/go-basic.obo [following]\n",
            "--2019-12-06 19:06:13--  http://current.geneontology.org/ontology/go-basic.obo\n",
            "Resolving current.geneontology.org (current.geneontology.org)... 99.84.201.44, 99.84.201.125, 99.84.201.222, ...\n",
            "Connecting to current.geneontology.org (current.geneontology.org)|99.84.201.44|:80... connected.\n",
            "HTTP request sent, awaiting response... 200 OK\n",
            "Length: 31285115 (30M) [text/obo]\n",
            "Saving to: ‘go-basic.obo’\n",
            "\n",
            "go-basic.obo        100%[===================>]  29.83M  14.6MB/s    in 2.0s    \n",
            "\n",
            "2019-12-06 19:06:15 (14.6 MB/s) - ‘go-basic.obo’ saved [31285115/31285115]\n",
            "\n"
          ],
          "name": "stdout"
        }
      ]
    },
    {
      "cell_type": "code",
      "metadata": {
        "id": "7ShHdcbFW9sR",
        "colab_type": "code",
        "outputId": "f5ac4564-aef3-48b0-caf3-74169d9569ac",
        "colab": {
          "base_uri": "https://localhost:8080/",
          "height": 34
        }
      },
      "source": [
        "# cargar la go\n",
        "from goatools.obo_parser import GODag\n",
        "godag=GODag(\"go-basic.obo\")"
      ],
      "execution_count": 0,
      "outputs": [
        {
          "output_type": "stream",
          "text": [
            "go-basic.obo: fmt(1.2) rel(2019-11-02) 47,242 GO Terms\n"
          ],
          "name": "stdout"
        }
      ]
    },
    {
      "cell_type": "code",
      "metadata": {
        "id": "3_AqSXpFSItA",
        "colab_type": "code",
        "outputId": "48fd2662-462a-4962-eb26-649a3c2ef696",
        "colab": {
          "base_uri": "https://localhost:8080/",
          "height": 121
        }
      },
      "source": [
        "# asociaciones entre términos de la GO y anotaciones de los genes\n",
        "import os\n",
        "from goatools.associations import dnld_assc\n",
        "# \"tair.gaf\" :      arabidopsis (planta)\n",
        "# \"aspgd.gaf\" :     aspergillus (hongo)\n",
        "# \"rgd.gaf\" :       rata\n",
        "# \"goa_human.gaf\" : humano\n",
        "fin_gaf = os.path.join(os.getcwd(), \"tair.gaf\")\n",
        "associations = dnld_assc(fin_gaf, godag)"
      ],
      "execution_count": 0,
      "outputs": [
        {
          "output_type": "stream",
          "text": [
            "requests.get(http://current.geneontology.org/annotations/tair.gaf.gz, stream=True)\n",
            "  WROTE: /content/tair.gaf.gz\n",
            "\n",
            "  gunzip /content/tair.gaf.gz\n",
            "HMS:0:00:05.144378 225,323 annotations READ: /content/tair.gaf \n",
            "17309 IDs in loaded association branch, BP\n"
          ],
          "name": "stdout"
        }
      ]
    },
    {
      "cell_type": "code",
      "metadata": {
        "id": "V_FLGLs-lAHs",
        "colab_type": "code",
        "colab": {}
      },
      "source": [
        "# similaridad JC\n",
        "\n",
        "def JC_sim(g1, g2, go, terms):\n",
        "  ic_g1 = get_info_content(g1, terms)\n",
        "  ic_g2 = get_info_content(g2, terms)\n",
        "  sim_res = resnik_sim(g1, g2, go, terms)\n",
        "  sim_JC = 1 -( ic_g1 + ic_g2 - 2 * sim_res )\n",
        "  return(sim_JC)\n",
        "\n",
        "# similaridad rel\n",
        "\n",
        "def rel_sim(g1, g2, go, terms):\n",
        "  sim_lin = lin_sim(g1, g2, go, terms)\n",
        "  sim_res = resnik_sim(g1, g2, go, terms)\n",
        "  # obtener p(c_MICA)\n",
        "  p_mica = 10**(-sim_res)\n",
        "  sim_rel = sim_lin * (1-p_mica)\n",
        "  return(sim_rel)"
      ],
      "execution_count": 0,
      "outputs": []
    },
    {
      "cell_type": "markdown",
      "metadata": {
        "id": "jp0O6qyuEUlE",
        "colab_type": "text"
      },
      "source": [
        "# Análisis de similaridades semánticas\n",
        "\n",
        "La figura presenta los genes que se van a utilizar en este análisis:\n",
        "![alt text](https://raw.githubusercontent.com/TiagoNLopez/stuff/master/go_test1_tags.png)\n",
        "\n"
      ]
    },
    {
      "cell_type": "code",
      "metadata": {
        "id": "y3vZKW6ac5Db",
        "colab_type": "code",
        "outputId": "015b2a8b-4dfe-4316-fa80-e9ef69d204b7",
        "colab": {
          "base_uri": "https://localhost:8080/",
          "height": 34
        }
      },
      "source": [
        "import numpy as np\n",
        "from goatools.semantic import TermCounts, resnik_sim, lin_sim, get_info_content\n",
        "termcounts = TermCounts(godag, associations)\n",
        "display(termcounts)\n",
        "\n",
        "id_list = [\"GO:0048519\",\n",
        "           \"GO:0050794\",\n",
        "          \n",
        "           \"GO:0048523\",\n",
        "           \"GO:0010941\",\n",
        "          \n",
        "           \"GO:0060548\",\n",
        "           \"GO:0043067\",\n",
        "          \n",
        "           \"GO:0043069\",\n",
        "           \"GO:0042981\"]\n",
        "\n",
        "sims = np.zeros((len(id_list),len(id_list)))\n",
        "\n",
        "for fun1 in range(len(id_list)):\n",
        "  for fun2 in range(fun1):\n",
        "    sims[fun1,fun2] = lin_sim(id_list[fun1], id_list[fun2], godag, termcounts)\n",
        "    \n",
        "np.savetxt(\"sim_lin.csv\",sims,delimiter=\",\")"
      ],
      "execution_count": 0,
      "outputs": [
        {
          "output_type": "display_data",
          "data": {
            "text/plain": [
              "<goatools.semantic.TermCounts at 0x7f7c93457be0>"
            ]
          },
          "metadata": {
            "tags": []
          }
        }
      ]
    },
    {
      "cell_type": "code",
      "metadata": {
        "id": "PqzcDUeg1e0a",
        "colab_type": "code",
        "outputId": "4fa84169-77f0-4ff8-ab46-7b687952756c",
        "colab": {
          "base_uri": "https://localhost:8080/",
          "height": 237
        }
      },
      "source": [
        "# probar distintas anotaciones\n",
        "\n",
        "#fin_gaf1 = os.path.join(os.getcwd(), \"aspgd.gaf\")\n",
        "#fin_gaf2 = os.path.join(os.getcwd(), \"rgd.gaf\")\n",
        "#fin_gaf3 = os.path.join(os.getcwd(), \"goa_human.gaf\")\n",
        "#fin_gaf = os.path.join(os.getcwd(), \"tair.gaf\")\n",
        "\n",
        "associations = dnld_assc(fin_gaf1, godag)\n",
        "termcounts = TermCounts(godag, associations)\n",
        "sim_asper1 = lin_sim(\"GO:0060548\", \"GO:0043067\", godag, termcounts)\n",
        "sim_asper2 = lin_sim(\"GO:0043069\", \"GO:0042981\", godag, termcounts)\n",
        "\n",
        "associations = dnld_assc(fin_gaf2, godag)\n",
        "termcounts = TermCounts(godag, associations)\n",
        "sim_rata1 = lin_sim(\"GO:0060548\", \"GO:0043067\", godag, termcounts)\n",
        "sim_rata2 = lin_sim(\"GO:0043069\", \"GO:0042981\", godag, termcounts)\n",
        "\n",
        "associations = dnld_assc(fin_gaf3, godag)\n",
        "termcounts = TermCounts(godag, associations)\n",
        "sim_humano1 = lin_sim(\"GO:0060548\", \"GO:0043067\", godag, termcounts)\n",
        "sim_humano2 = lin_sim(\"GO:0043069\", \"GO:0042981\", godag, termcounts)\n",
        "\n",
        "associations = dnld_assc(fin_gaf, godag)\n",
        "termcounts = TermCounts(godag, associations)\n",
        "sim_arab1 = lin_sim(\"GO:0060548\", \"GO:0043067\", godag, termcounts)\n",
        "sim_arab2 = lin_sim(\"GO:0043069\", \"GO:0042981\", godag, termcounts)\n",
        "\n",
        "print(\" \")\n",
        "print(\"GO:0060548 vs GO:0043067\")\n",
        "print(\"Lin aspergilus : \", sim_asper1)\n",
        "print(\"Lin rata       : \", sim_rata1)\n",
        "print(\"Lin humano     : \", sim_humano1)\n",
        "print(\"Lin arabidopsis: \", sim_arab1)\n",
        "\n",
        "print(\" \")\n",
        "print(\"GO:0043069 vs GO:0042981\")\n",
        "print(\"Lin aspergilus : \", sim_asper2)\n",
        "print(\"Lin rata       : \", sim_rata2)\n",
        "print(\"Lin humano     : \", sim_humano2)\n",
        "print(\"Lin arabidopsis: \", sim_arab2)"
      ],
      "execution_count": 0,
      "outputs": [
        {
          "output_type": "error",
          "ename": "NameError",
          "evalue": "ignored",
          "traceback": [
            "\u001b[0;31m---------------------------------------------------------------------------\u001b[0m",
            "\u001b[0;31mNameError\u001b[0m                                 Traceback (most recent call last)",
            "\u001b[0;32m<ipython-input-6-7343a1294014>\u001b[0m in \u001b[0;36m<module>\u001b[0;34m()\u001b[0m\n\u001b[1;32m      1\u001b[0m \u001b[0;34m\u001b[0m\u001b[0m\n\u001b[0;32m----> 2\u001b[0;31m \u001b[0massociations\u001b[0m \u001b[0;34m=\u001b[0m \u001b[0mdnld_assc\u001b[0m\u001b[0;34m(\u001b[0m\u001b[0mfin_gaf1\u001b[0m\u001b[0;34m,\u001b[0m \u001b[0mgodag\u001b[0m\u001b[0;34m)\u001b[0m\u001b[0;34m\u001b[0m\u001b[0;34m\u001b[0m\u001b[0m\n\u001b[0m\u001b[1;32m      3\u001b[0m \u001b[0mtermcounts\u001b[0m \u001b[0;34m=\u001b[0m \u001b[0mTermCounts\u001b[0m\u001b[0;34m(\u001b[0m\u001b[0mgodag\u001b[0m\u001b[0;34m,\u001b[0m \u001b[0massociations\u001b[0m\u001b[0;34m)\u001b[0m\u001b[0;34m\u001b[0m\u001b[0;34m\u001b[0m\u001b[0m\n\u001b[1;32m      4\u001b[0m \u001b[0msim_asper1\u001b[0m \u001b[0;34m=\u001b[0m \u001b[0mlin_sim\u001b[0m\u001b[0;34m(\u001b[0m\u001b[0;34m\"GO:0060548\"\u001b[0m\u001b[0;34m,\u001b[0m \u001b[0;34m\"GO:0043067\"\u001b[0m\u001b[0;34m,\u001b[0m \u001b[0mgodag\u001b[0m\u001b[0;34m,\u001b[0m \u001b[0mtermcounts\u001b[0m\u001b[0;34m)\u001b[0m\u001b[0;34m\u001b[0m\u001b[0;34m\u001b[0m\u001b[0m\n\u001b[1;32m      5\u001b[0m \u001b[0msim_asper2\u001b[0m \u001b[0;34m=\u001b[0m \u001b[0mlin_sim\u001b[0m\u001b[0;34m(\u001b[0m\u001b[0;34m\"GO:0043069\"\u001b[0m\u001b[0;34m,\u001b[0m \u001b[0;34m\"GO:0042981\"\u001b[0m\u001b[0;34m,\u001b[0m \u001b[0mgodag\u001b[0m\u001b[0;34m,\u001b[0m \u001b[0mtermcounts\u001b[0m\u001b[0;34m)\u001b[0m\u001b[0;34m\u001b[0m\u001b[0;34m\u001b[0m\u001b[0m\n",
            "\u001b[0;31mNameError\u001b[0m: name 'fin_gaf1' is not defined"
          ]
        }
      ]
    },
    {
      "cell_type": "code",
      "metadata": {
        "id": "HJKhOrrRukZi",
        "colab_type": "code",
        "colab": {}
      },
      "source": [
        "# graficar\n",
        "godag.draw_lineage([godag[\"GO:0043066\"], godag[\"GO:0006915\"]], nodecolor=\"gray14\", \n",
        "                   edgecolor=\"cornflowerblue\", dpi=300, lineage_img=\"go_test1.png\", \n",
        "                   draw_parents=True, draw_children=False)\n",
        "\n",
        "from IPython.display import Image\n",
        "Image(\"go_test1.png\")"
      ],
      "execution_count": 0,
      "outputs": []
    },
    {
      "cell_type": "code",
      "metadata": {
        "id": "VQvU6Cht8biG",
        "colab_type": "code",
        "colab": {}
      },
      "source": [
        "# graficar\n",
        "godag.draw_lineage([godag[\"GO:0060150\"]], nodecolor=\"gray14\", \n",
        "                   edgecolor=\"cornflowerblue\", dpi=300, lineage_img=\"go_test2.png\", \n",
        "                   draw_parents=True, draw_children=False)\n",
        "\n",
        "from IPython.display import Image\n",
        "Image(\"go_test2.png\")"
      ],
      "execution_count": 0,
      "outputs": []
    },
    {
      "cell_type": "code",
      "metadata": {
        "id": "quDqd34e_LaC",
        "colab_type": "code",
        "colab": {}
      },
      "source": [
        "id = ['GO:0019222', 'GO:0050794', 'GO:0048518']\n",
        "\n",
        "print('Gen 1: ', id[0], ' IC: ', get_info_content(id[0], termcounts))\n",
        "print('Gen 2: ', id[1], ' IC: ', get_info_content(id[1], termcounts))\n",
        "print('Gen 3: ', id[2], ' IC: ', get_info_content(id[2], termcounts))\n",
        "print(' ')\n",
        "print('G1 vs G2: ', lin_sim(id[0], id[1], godag, termcounts))\n",
        "print('G2 vs G3: ', lin_sim(id[1], id[2], godag, termcounts))\n",
        "print('G3 vs G1: ', lin_sim(id[2], id[0], godag, termcounts))"
      ],
      "execution_count": 0,
      "outputs": []
    },
    {
      "cell_type": "code",
      "metadata": {
        "id": "IE94LrrHhCY_",
        "colab_type": "code",
        "outputId": "4da742f5-d2c7-40bc-d99d-d014d2ab6a48",
        "colab": {
          "base_uri": "https://localhost:8080/",
          "height": 156
        }
      },
      "source": [
        "from goatools.semantic import TermCounts\n",
        "termcounts = TermCounts(godag, associations)\n",
        "\n",
        "go_id = ['GO:0008150',\n",
        "         \n",
        "         'GO:0009987',\n",
        "         'GO:0065007',\n",
        "        \n",
        "         'GO:0008219',\n",
        "         'GO:0050789',\n",
        "        \n",
        "         'GO:0012501',\n",
        "         'GO:0048519',\n",
        "         'GO:0050794',\n",
        "        \n",
        "         'GO:0006915',\n",
        "         'GO:0048523',\n",
        "         'GO:0010941',\n",
        "        \n",
        "         'GO:0060548',\n",
        "         'GO:0043067',\n",
        "        \n",
        "         'GO:0043069',\n",
        "         'GO:0042981',\n",
        "        \n",
        "         'GO:0043066']\n",
        "\n",
        "freq = []\n",
        "for id in go_id:\n",
        "  freq.append(termcounts.get_term_freq(id))\n",
        "  \n",
        "print('     ',freq[0])\n",
        "print(freq[1],' ',freq[2])\n",
        "print(freq[3],' ',freq[4])\n",
        "print(freq[5],' ',freq[6],' ',freq[7])\n",
        "print(freq[8],' ',freq[9],' ',freq[10])\n",
        "print('     ',freq[11],' ',freq[12])\n",
        "print('     ',freq[13],' ',freq[14])\n",
        "print('     ',freq[15])"
      ],
      "execution_count": 0,
      "outputs": [
        {
          "output_type": "stream",
          "text": [
            "      1.0\n",
            "0.6803181325207871   0.3246397768940763\n",
            "0.006817125445437174   0.2852863709135981\n",
            "0.005732582760935806   0.05892681919124103   0.2455198058152146\n",
            "0.00010328977947632082   0.038165573516500545   0.004286525848267314\n",
            "      0.0017042813613592936   0.003408562722718587\n",
            "      0.0013427671331921705   0.0003098693384289625\n",
            "      0.00025822444869080206\n"
          ],
          "name": "stdout"
        }
      ]
    },
    {
      "cell_type": "markdown",
      "metadata": {
        "id": "eTr4QCzRIH-c",
        "colab_type": "text"
      },
      "source": [
        "# Similaridad sobre funciones individuales\n",
        "\n",
        "Los genes propuestos son:\n",
        "\n",
        "**G1:  GO:0012501**,  **GO:0006915**    \n",
        "\n",
        "**G2:  GO:0048519**,  **GO:0048523**\n",
        "\n",
        "**G3:  GO:0050794**,  **GO:0010941**\n",
        "\n",
        "Estos genes comparten funciones en los mismos niveles, que si bien en el gráfico parecen distintos más adelante se demuestra en código que son los mismos.\n",
        "\n",
        "\n",
        "\n",
        "---\n",
        "\n",
        "\n",
        "## Medidas de similaridad entre funciones\n",
        "\n",
        "Las medidas que voy a utilizar son las siguientes:\n",
        "\n",
        "**Resnik**\n",
        "$$ Sim_{Res}(c_1,c_2)=IC(c_{MICA}) $$\n",
        "\n",
        "**Lin**\n",
        "$$ Sim_{Lin}(c_1,c_2)=\\frac{2\\times IC(c_{MICA})}{IC(c_1)+IC(c_2)} $$\n",
        "\n",
        "**Jiang, Conrath**\n",
        "$$ Sim_{JC}(c_1,c_2)=1-IC(c_1)+IC(c_2)-2\\times IC(c_{MICA}) $$\n",
        "\n",
        "**Schlicker**\n",
        "$$ Sim_{Rel}(c_1,c_2)=Sim_{Lin}(c_1,c_2) \\times (1-p(c_{MICA})) $$\n",
        "\n",
        "\n",
        "\n",
        "---\n",
        "\n",
        "\n",
        "## Mediciones a realizar\n",
        "\n",
        "Se van a comparar las funciones de **G2** con respecto a **G1** y **G3**, siempre en un mismo nivel. Los resultados se obtienen en el código siguiente."
      ]
    },
    {
      "cell_type": "code",
      "metadata": {
        "id": "UFUgPClIQNVv",
        "colab_type": "code",
        "outputId": "99a45033-454b-4d35-aa59-6d4b238c0c9f",
        "colab": {
          "base_uri": "https://localhost:8080/",
          "height": 193
        }
      },
      "source": [
        "# comprobar anotaciones y niveles\n",
        "\n",
        "G1F1_go_id = 'GO:0012501'\n",
        "G1F2_go_id = 'GO:0006915'\n",
        "\n",
        "G2F1_go_id = 'GO:0048519'\n",
        "G2F2_go_id = 'GO:0048523'\n",
        "\n",
        "G3F1_go_id = 'GO:0050794'\n",
        "G3F2_go_id = 'GO:0010941'\n",
        "\n",
        "print('Gen 1')\n",
        "print(godag[G1F1_go_id])\n",
        "print(godag[G1F2_go_id])\n",
        "\n",
        "print('Gen 2')\n",
        "print(godag[G2F1_go_id])\n",
        "print(godag[G2F2_go_id])\n",
        "\n",
        "print('Gen 3')\n",
        "print(godag[G3F1_go_id])\n",
        "print(godag[G3F2_go_id])"
      ],
      "execution_count": 0,
      "outputs": [
        {
          "output_type": "stream",
          "text": [
            "Gen 1\n",
            "GO:0012501\tlevel-03\tdepth-03\tprogrammed cell death [biological_process]\n",
            "GO:0006915\tlevel-04\tdepth-04\tapoptotic process [biological_process]\n",
            "Gen 2\n",
            "GO:0048519\tlevel-03\tdepth-03\tnegative regulation of biological process [biological_process]\n",
            "GO:0048523\tlevel-04\tdepth-04\tnegative regulation of cellular process [biological_process]\n",
            "Gen 3\n",
            "GO:0050794\tlevel-03\tdepth-03\tregulation of cellular process [biological_process]\n",
            "GO:0010941\tlevel-04\tdepth-04\tregulation of cell death [biological_process]\n"
          ],
          "name": "stdout"
        }
      ]
    },
    {
      "cell_type": "code",
      "metadata": {
        "id": "Y2kaERIhS18S",
        "colab_type": "code",
        "outputId": "cf6183a7-d551-4805-df38-538a3e9640ee",
        "colab": {
          "base_uri": "https://localhost:8080/",
          "height": 34
        }
      },
      "source": [
        "# ancestro común más informativo\n",
        "from goatools.semantic import deepest_common_ancestor\n",
        "go_root = deepest_common_ancestor([G2F2_go_id, G3F2_go_id], godag)\n",
        "print(go_root)"
      ],
      "execution_count": 0,
      "outputs": [
        {
          "output_type": "stream",
          "text": [
            "GO:0050794\n"
          ],
          "name": "stdout"
        }
      ]
    },
    {
      "cell_type": "code",
      "metadata": {
        "id": "SYHKhL-ZWAmJ",
        "colab_type": "code",
        "outputId": "e160c88f-7d2b-4be0-fb07-ed9a9ba6c19d",
        "colab": {
          "base_uri": "https://localhost:8080/",
          "height": 52
        }
      },
      "source": [
        "# probar y comparar el contenido de información\n",
        "from goatools.semantic import TermCounts, get_info_content\n",
        "termcounts = TermCounts(godag, associations)\n",
        "infocontent1 = get_info_content(G1F1_go_id, termcounts)\n",
        "infocontent2 = get_info_content(G1F2_go_id, termcounts)\n",
        "print('Contenido de información padre ({}) = {}'.format(G1F1_go_id, infocontent1))\n",
        "print('Contenido de información hijo ({}) = {}'.format(G1F2_go_id, infocontent2))"
      ],
      "execution_count": 0,
      "outputs": [
        {
          "output_type": "stream",
          "text": [
            "Contenido de información padre (GO:0012501) = 2.2416496666707166\n",
            "Contenido de información hijo (GO:0006915) = 3.985942649793393\n"
          ],
          "name": "stdout"
        }
      ]
    },
    {
      "cell_type": "code",
      "metadata": {
        "id": "kttunxTZXENU",
        "colab_type": "code",
        "outputId": "be3f90a5-f242-41f4-a781-b24d55900813",
        "colab": {
          "base_uri": "https://localhost:8080/",
          "height": 278
        }
      },
      "source": [
        "from goatools.semantic import TermCounts, get_info_content, resnik_sim, lin_sim\n",
        "termcounts = TermCounts(godag, associations)\n",
        "\n",
        "# similaridades entre términos de nivel 3\n",
        "res_G1F1_vs_G2F1 = resnik_sim(G1F1_go_id, G2F1_go_id, godag, termcounts)\n",
        "res_G2F1_vs_G3F1 = resnik_sim(G3F1_go_id, G2F1_go_id, godag, termcounts)\n",
        "\n",
        "lin_G1F1_vs_G2F1 = lin_sim(G1F1_go_id, G2F1_go_id, godag, termcounts)\n",
        "lin_G2F1_vs_G3F1 = lin_sim(G3F1_go_id, G2F1_go_id, godag, termcounts)\n",
        "\n",
        "jc_G1F1_vs_G2F1 = JC_sim(G1F1_go_id, G2F1_go_id, godag, termcounts)\n",
        "jc_G2F1_vs_G3F1 = JC_sim(G3F1_go_id, G2F1_go_id, godag, termcounts)\n",
        "\n",
        "rel_G1F1_vs_G2F1 = rel_sim(G1F1_go_id, G2F1_go_id, godag, termcounts)\n",
        "rel_G2F1_vs_G3F1 = rel_sim(G3F1_go_id, G2F1_go_id, godag, termcounts)\n",
        "\n",
        "# similaridades entre términos de nivel 4\n",
        "res_G1F2_vs_G2F2 = resnik_sim(G1F2_go_id, G2F2_go_id, godag, termcounts)\n",
        "res_G2F2_vs_G3F2 = resnik_sim(G3F2_go_id, G2F2_go_id, godag, termcounts)\n",
        "\n",
        "lin_G1F2_vs_G2F2 = lin_sim(G1F2_go_id, G2F2_go_id, godag, termcounts)\n",
        "lin_G2F2_vs_G3F2 = lin_sim(G3F2_go_id, G2F2_go_id, godag, termcounts)\n",
        "\n",
        "jc_G1F2_vs_G2F2 = JC_sim(G1F2_go_id, G2F2_go_id, godag, termcounts)\n",
        "jc_G2F2_vs_G3F2 = JC_sim(G3F2_go_id, G2F2_go_id, godag, termcounts)\n",
        "\n",
        "rel_G1F2_vs_G2F2 = rel_sim(G1F2_go_id, G2F2_go_id, godag, termcounts)\n",
        "rel_G2F2_vs_G3F2 = rel_sim(G3F2_go_id, G2F2_go_id, godag, termcounts)\n",
        "\n",
        "print(\"Comparaciones contra G2F1: GO:0048519 (lvl 3)\")\n",
        "print(\"Measure   vs G1F1 GO:0012501  vs G3F1 GO:0050794\")\n",
        "print(\"--------- ------------------- -------------------\")\n",
        "print(\"resnik    {sim1:.16f} {sim2:.16f}\".format(sim1=res_G1F1_vs_G2F1, sim2=res_G2F1_vs_G3F1))\n",
        "print(\"lin       {sim1:.16f} {sim2:.16f}\".format(sim1=lin_G1F1_vs_G2F1, sim2=lin_G2F1_vs_G3F1))\n",
        "print(\"JC        {sim1:.16f} {sim2:.16f}\".format(sim1=jc_G1F1_vs_G2F1, sim2=jc_G2F1_vs_G3F1))\n",
        "print(\"relevance {sim1:.16f} {sim2:.16f}\".format(sim1=rel_G1F1_vs_G2F1, sim2=rel_G2F1_vs_G3F1))\n",
        "print(\" \")\n",
        "print(\"Comparaciones contra G2F2: GO:0048523 (lvl 4)\")\n",
        "print(\"Measure   vs G1F2 GO:0006915  vs G3F2 GO:0010941\")\n",
        "print(\"--------- ------------------- -------------------\")\n",
        "print(\"resnik    {sim1:.16f} {sim2:.16f}\".format(sim1=res_G1F2_vs_G2F2, sim2=res_G2F2_vs_G3F2))\n",
        "print(\"lin       {sim1:.16f} {sim2:.16f}\".format(sim1=lin_G1F2_vs_G2F2, sim2=lin_G2F2_vs_G3F2))\n",
        "print(\"JC        {sim1:.16f} {sim2:.16f}\".format(sim1=jc_G1F2_vs_G2F2, sim2=jc_G2F2_vs_G3F2))\n",
        "print(\"relevance {sim1:.16f} {sim2:.16f}\".format(sim1=rel_G1F2_vs_G2F2, sim2=rel_G2F2_vs_G3F2))"
      ],
      "execution_count": 0,
      "outputs": [
        {
          "output_type": "stream",
          "text": [
            "Comparaciones contra G2F1: GO:0048519 (lvl 3)\n",
            "Measure   vs G1F1 GO:0012501  vs G3F1 GO:0050794\n",
            "--------- ------------------- -------------------\n",
            "resnik    -0.0000000000000000 0.5447189755507806\n",
            "lin       -0.0000000000000000 0.5922144342743970\n",
            "JC        -2.4713366677098763 0.2498374819971887\n",
            "relevance -0.0000000000000000 0.4232637275176047\n",
            " \n",
            "Comparaciones contra G2F2: GO:0048523 (lvl 4)\n",
            "Measure   vs G1F2 GO:0006915  vs G3F2 GO:0010941\n",
            "--------- ------------------- -------------------\n",
            "resnik    -0.0000000000000000 0.6099134680652128\n",
            "lin       -0.0000000000000000 0.3221751633240093\n",
            "JC        -4.4042708568559412 -1.5663958240134228\n",
            "relevance -0.0000000000000000 0.2430747797862135\n"
          ],
          "name": "stdout"
        }
      ]
    },
    {
      "cell_type": "markdown",
      "metadata": {
        "id": "74WOU52lvHqS",
        "colab_type": "text"
      },
      "source": [
        "## Análisis de resultados\n",
        "\n",
        "* En muchos casos la similaridad resultó ser 0, esto es porque se seleccionaron genes que tiene como $c_{MICA}$ a la raíz, el cual tiene información igual a cero.\n",
        "\n",
        "* La similaridad de *Resnik* da el resultado esperado en las comparación entre funciones de un mismo nivel, **aumenta al descender en un nivel del grafo** ya que el ancestro pasa a ser un nodo más específico (en el caso de G2 vs G3).\n",
        "\n",
        "* En *Lin* también se obtienen valores mayores de las comparaciones entre G2 y G3, **la comparación entre niveles es mayor en el primer caso**.\n",
        "\n",
        "* *JC* no es una buena medida, en el primer caso da mayor para las funciones más distanciadas. Además, los resultados negativos son confusos.\n",
        "\n",
        "* En *Relevance* el término de probabiladad del MICA produce una **similaridad mayor en términos con MICAs más específicos y menor en otros casos**."
      ]
    },
    {
      "cell_type": "markdown",
      "metadata": {
        "id": "gYU9fw5gZXQt",
        "colab_type": "text"
      },
      "source": [
        "# Similaridad sobre conjuntos de funciones \n",
        "\n",
        "## Medidas de similaridad\n",
        "\n",
        "En este análisis se van a utilizar las medidas anteriores de Resnik, Lin y Schlicker, comparando entre pares de funciones y calculando el promedio, el máximo y el mínimo, también se utiliza la medida del coseno.\n",
        "\n",
        "**Coseno:**\n",
        "\n",
        "$$ CoSim_{A,B} = \\frac{A\\cdot B}{|A|^2 + |B|^2 - A \\cdot B}$$"
      ]
    },
    {
      "cell_type": "code",
      "metadata": {
        "id": "JB9PYQl5oZec",
        "colab_type": "code",
        "outputId": "a0624e8c-c875-483d-bdcc-264df4ec5ba7",
        "colab": {
          "base_uri": "https://localhost:8080/",
          "height": 295
        }
      },
      "source": [
        "import numpy as np\n",
        "\n",
        "# genes\n",
        "G1_go_id = [G1F1_go_id,G1F2_go_id]\n",
        "G2_go_id = [G2F1_go_id,G2F2_go_id]\n",
        "G3_go_id = [G3F1_go_id,G3F2_go_id]\n",
        "\n",
        "G1vsG2_res = []\n",
        "G1vsG2_lin = []\n",
        "G1vsG2_rel = []\n",
        "G1vsG2_cos = []\n",
        "\n",
        "G3vsG2_res = []\n",
        "G3vsG2_lin = []\n",
        "G3vsG2_rel = []\n",
        "G3vsG2_cos = []\n",
        "\n",
        "for func1 in G1_go_id:\n",
        "  for func2 in G2_go_id:\n",
        "    G1vsG2_res.append(resnik_sim(func1, func2, godag, termcounts))\n",
        "    G1vsG2_lin.append(lin_sim(func1, func2, godag, termcounts))\n",
        "    G1vsG2_rel.append(rel_sim(func1, func2, godag, termcounts))\n",
        "    \n",
        "    \n",
        "for func1 in G3_go_id:\n",
        "  for func2 in G2_go_id:\n",
        "    G3vsG2_res.append(resnik_sim(func1, func2, godag, termcounts))\n",
        "    G3vsG2_lin.append(lin_sim(func1, func2, godag, termcounts))\n",
        "    G3vsG2_rel.append(rel_sim(func1, func2, godag, termcounts))\n",
        "    \n",
        "G1G2_res_avg = sum(G1vsG2_res)/4\n",
        "G3G2_res_avg = sum(G3vsG2_res)/4\n",
        "G1G2_lin_avg = sum(G1vsG2_lin)/4\n",
        "G3G2_lin_avg = sum(G3vsG2_lin)/4\n",
        "G1G2_rel_avg = sum(G1vsG2_rel)/4\n",
        "G3G2_rel_avg = sum(G3vsG2_rel)/4\n",
        "\n",
        "G1G2_res_max = max(G1vsG2_res)\n",
        "G3G2_res_max = max(G3vsG2_res)\n",
        "G1G2_lin_max = max(G1vsG2_lin)\n",
        "G3G2_lin_max = max(G3vsG2_lin)\n",
        "G1G2_rel_max = max(G1vsG2_rel)\n",
        "G3G2_rel_max = max(G3vsG2_rel)\n",
        "\n",
        "G1G2_res_min = min(G1vsG2_res)\n",
        "G3G2_res_min = min(G3vsG2_res)\n",
        "G1G2_lin_min = min(G1vsG2_lin)\n",
        "G3G2_lin_min = min(G3vsG2_lin)\n",
        "G1G2_rel_min = min(G1vsG2_rel)\n",
        "G3G2_rel_min = min(G3vsG2_rel)\n",
        "\n",
        "from goatools.semantic import TermCounts, get_info_content\n",
        "termcounts = TermCounts(godag, associations)\n",
        "ic_G1F1 = get_info_content(G1F1_go_id, termcounts)\n",
        "ic_G1F2 = get_info_content(G1F2_go_id, termcounts)\n",
        "ic_G2F1 = get_info_content(G2F1_go_id, termcounts)\n",
        "ic_G2F2 = get_info_content(G2F2_go_id, termcounts)\n",
        "ic_G3F1 = get_info_content(G3F1_go_id, termcounts)\n",
        "ic_G3F2 = get_info_content(G3F2_go_id, termcounts)\n",
        "\n",
        "\n",
        "# se recorre del grafo en amplitud (ver figura),\n",
        "# este recorrido determina la forma de los vectores\n",
        "# se pesan los nodos con su contenido de información correspondiente\n",
        "G1v = [0, \n",
        "       0, 0, 0, \n",
        "       0, 0, \n",
        "       0, 0, 0, \n",
        "       ic_G1F1, 0, 0,\n",
        "       ic_G1F2, 0, 0,\n",
        "       0, 0,\n",
        "       0]\n",
        "\n",
        "G2v = [0, \n",
        "       0, 0, 0, \n",
        "       0, 0, \n",
        "       0, ic_G2F1, 0, \n",
        "       0, ic_G2F2, 0,\n",
        "       0, 0, 0,\n",
        "       0, 0,\n",
        "       0]\n",
        "\n",
        "G3v = [0, \n",
        "       0, 0, 0, \n",
        "       0, 0, \n",
        "       0, 0, ic_G3F1, \n",
        "       0, 0, ic_G3F2,\n",
        "       0, 0, 0,\n",
        "       0, 0,\n",
        "       0]\n",
        "\n",
        "punto1 = np.array(G1v) @ np.array(G2v)\n",
        "punto2 = np.array(G3v) @ np.array(G2v)\n",
        "\n",
        "G1_snorm = 0\n",
        "for x in G1v:\n",
        "  G1_snorm += x**2\n",
        "  \n",
        "G2_snorm = 0\n",
        "for x in G2v:\n",
        "  G2_snorm += x**2\n",
        "  \n",
        "G3_snorm = 0\n",
        "for x in G3v:\n",
        "  G3_snorm += x**2\n",
        "  \n",
        "G1G2_cos = punto1 / (G1_snorm + G2_snorm - punto1)\n",
        "G3G2_cos = punto2 / (G3_snorm + G2_snorm - punto2)\n",
        "\n",
        "# informar resultados\n",
        "print(\"Comparaciones de medidas por grupos, comparando contra G2\")\n",
        "print(\"   Measure           vs G1               vs G3       \")\n",
        "print(\"------------- ------------------- -------------------\")\n",
        "print(\"resnik    min {sim1:.16f}  {sim2:.16f}\".format(sim1=G1G2_res_min, sim2=G3G2_res_min))\n",
        "print(\"lin       min {sim1:.16f}  {sim2:.16f}\".format(sim1=G1G2_lin_min, sim2=G3G2_lin_min))\n",
        "print(\"relevance min {sim1:.16f}  {sim2:.16f}\".format(sim1=G1G2_rel_min, sim2=G3G2_rel_min))\n",
        "print(\"\")\n",
        "print(\"resnik    avg {sim1:.16f}  {sim2:.16f}\".format(sim1=G1G2_res_avg, sim2=G3G2_res_avg))\n",
        "print(\"lin       avg {sim1:.16f}  {sim2:.16f}\".format(sim1=G1G2_lin_avg, sim2=G3G2_lin_avg))\n",
        "print(\"relevance avg {sim1:.16f}  {sim2:.16f}\".format(sim1=G1G2_rel_avg, sim2=G3G2_rel_avg))\n",
        "print(\"\")\n",
        "print(\"resnik    max {sim1:.16f}  {sim2:.16f}\".format(sim1=G1G2_res_max, sim2=G3G2_res_max))\n",
        "print(\"lin       max {sim1:.16f}  {sim2:.16f}\".format(sim1=G1G2_lin_max, sim2=G3G2_lin_max))\n",
        "print(\"relevance max {sim1:.16f}  {sim2:.16f}\".format(sim1=G1G2_rel_max, sim2=G3G2_rel_max))\n",
        "print(\"\")\n",
        "print(\"cosine        {sim1:.16f}  {sim2:.16f}\".format(sim1=G1G2_cos, sim2=G3G2_cos))"
      ],
      "execution_count": 0,
      "outputs": [
        {
          "output_type": "stream",
          "text": [
            "Comparaciones de medidas por grupos, comparando contra G2\n",
            "   Measure           vs G1               vs G3       \n",
            "------------- ------------------- -------------------\n",
            "resnik    min -0.0000000000000000  0.5447189755507806\n",
            "lin       min -0.0000000000000000  0.3028250881078103\n",
            "relevance min -0.0000000000000000  0.2164332176999425\n",
            "\n",
            "resnik    avg 0.0000000000000000  0.5773162218079968\n",
            "lin       avg 0.0000000000000000  0.4546588967294742\n",
            "relevance avg 0.0000000000000000  0.3341329708341844\n",
            "\n",
            "resnik    max -0.0000000000000000  0.6099134680652128\n",
            "lin       max -0.0000000000000000  0.6014209012116800\n",
            "relevance max -0.0000000000000000  0.4537601583329769\n",
            "\n",
            "cosine        0.0000000000000000  0.0000000000000000\n"
          ],
          "name": "stdout"
        }
      ]
    },
    {
      "cell_type": "markdown",
      "metadata": {
        "id": "Oxc6d7U7kP31",
        "colab_type": "text"
      },
      "source": [
        "\n",
        "## Análisis de resultados\n",
        "\n",
        "* En el caso de los genes que tienen como menor ancestro común al nodo raíz, su similaridad es cero.\n",
        "* En el caso de la medida de coseno como los genes no tienen términos en común las similaridades se anulan.\n",
        "* Para las medidas que usan max, min o avg, todos los casos son representativos, ya que los genes que se comparan son cercanos y no contienen términos en común."
      ]
    },
    {
      "cell_type": "markdown",
      "metadata": {
        "id": "iAH_j5mtFp50",
        "colab_type": "text"
      },
      "source": [
        "# Segundo caso de prueba\n",
        "\n",
        "En este caso los genes elegidos tienen una función en común:\n",
        "\n",
        "![alt text](https://raw.githubusercontent.com/TiagoNLopez/stuff/master/go_test2.png)"
      ]
    },
    {
      "cell_type": "code",
      "metadata": {
        "id": "6dWTkNyTCmj-",
        "colab_type": "code",
        "outputId": "380bb8d2-fe0a-4cf4-b0b1-36b8fa63d9bd",
        "colab": {
          "base_uri": "https://localhost:8080/",
          "height": 280
        }
      },
      "source": [
        "# comprobar anotaciones y niveles\n",
        "\n",
        "G1_go_id = ['GO:0008152',\n",
        "            'GO:0043170',\n",
        "            'GO:0010467']\n",
        "\n",
        "G2_go_id = ['GO:0008152',\n",
        "            'GO:0019222',\n",
        "            'GO:0060255']\n",
        "\n",
        "G3_go_id = ['GO:0008152',\n",
        "            'GO:0009892',\n",
        "            'GO:0010605']\n",
        "\n",
        "print('Gen 1')\n",
        "for fun in G1_go_id:\n",
        "  print(godag[fun])\n",
        "print(' ')\n",
        "  \n",
        "print('Gen 2')\n",
        "for fun in G2_go_id:\n",
        "  print(godag[fun])\n",
        "print(' ')\n",
        "  \n",
        "print('Gen 3')\n",
        "for fun in G3_go_id:\n",
        "  print(godag[fun])"
      ],
      "execution_count": 0,
      "outputs": [
        {
          "output_type": "stream",
          "text": [
            "Gen 1\n",
            "GO:0008152\tlevel-01\tdepth-01\tmetabolic process [biological_process]\n",
            "GO:0043170\tlevel-03\tdepth-03\tmacromolecule metabolic process [biological_process]\n",
            "GO:0010467\tlevel-04\tdepth-04\tgene expression [biological_process]\n",
            " \n",
            "Gen 2\n",
            "GO:0008152\tlevel-01\tdepth-01\tmetabolic process [biological_process]\n",
            "GO:0019222\tlevel-03\tdepth-03\tregulation of metabolic process [biological_process]\n",
            "GO:0060255\tlevel-04\tdepth-04\tregulation of macromolecule metabolic process [biological_process]\n",
            " \n",
            "Gen 3\n",
            "GO:0008152\tlevel-01\tdepth-01\tmetabolic process [biological_process]\n",
            "GO:0009892\tlevel-04\tdepth-04\tnegative regulation of metabolic process [biological_process]\n",
            "GO:0010605\tlevel-05\tdepth-05\tnegative regulation of macromolecule metabolic process [biological_process]\n"
          ],
          "name": "stdout"
        }
      ]
    },
    {
      "cell_type": "code",
      "metadata": {
        "id": "yRJtpGa-D7cL",
        "colab_type": "code",
        "outputId": "9cc2ce4a-cc21-4444-c863-af5bb278f467",
        "colab": {
          "base_uri": "https://localhost:8080/",
          "height": 295
        }
      },
      "source": [
        "import numpy as np\n",
        "\n",
        "# min_sim_res_1(G1 vs G2) min_sim_res_2(G2 vs G3) min_lin_1 min_lin_2 min_rel_1 min_rel_2 cos_1 cos_2\n",
        "# avg_sim_res_1(G1 vs G2) avg_sim_res_2(G2 vs G3) avg_lin_1 avg_lin_2 avg_rel_1 avg_rel_2 0     0\n",
        "# max_sim_res_1(G1 vs G2) max_sim_res_2(G2 vs G3) max_lin_1 max_lin_2 max_rel_1 max_rel_2 0     0\n",
        "\n",
        "sims = np.zeros((3,8))\n",
        "res = []\n",
        "lin = []\n",
        "rel = []\n",
        "\n",
        "for func1 in G1_go_id:\n",
        "  for func2 in G2_go_id:\n",
        "    res.append(resnik_sim(func1, func2, godag, termcounts))\n",
        "    lin.append(lin_sim(func1, func2, godag, termcounts))\n",
        "    rel.append(rel_sim(func1, func2, godag, termcounts))\n",
        "    \n",
        "sims[0,0]=min(res)\n",
        "sims[1,0]=sum(res)/9\n",
        "sims[2,0]=max(res)\n",
        "\n",
        "sims[0,2]=min(lin)\n",
        "sims[1,2]=sum(lin)/9\n",
        "sims[2,2]=max(lin)\n",
        "\n",
        "sims[0,4]=min(rel)\n",
        "sims[1,4]=sum(rel)/9\n",
        "sims[2,4]=max(rel)\n",
        "\n",
        "res = []\n",
        "lin = []\n",
        "rel = []\n",
        "\n",
        "for func1 in G3_go_id:\n",
        "  for func2 in G2_go_id:\n",
        "    res.append(resnik_sim(func1, func2, godag, termcounts))\n",
        "    lin.append(lin_sim(func1, func2, godag, termcounts))\n",
        "    rel.append(rel_sim(func1, func2, godag, termcounts))\n",
        "\n",
        "sims[0,1]=min(res)\n",
        "sims[1,1]=sum(res)/9\n",
        "sims[2,1]=max(res)\n",
        "\n",
        "sims[0,3]=min(lin)\n",
        "sims[1,3]=sum(lin)/9\n",
        "sims[2,3]=max(lin)\n",
        "\n",
        "sims[0,5]=min(rel)\n",
        "sims[1,5]=sum(rel)/9\n",
        "sims[2,5]=max(rel)\n",
        "\n",
        "ic_G1 = []\n",
        "for func in G1_go_id:\n",
        "  ic_G1.append(get_info_content(func,termcounts))\n",
        "\n",
        "ic_G2 = []\n",
        "for func in G2_go_id:\n",
        "  ic_G2.append(get_info_content(func,termcounts))\n",
        "\n",
        "ic_G3 = []\n",
        "for func in G3_go_id:\n",
        "  ic_G3.append(get_info_content(func,termcounts))\n",
        "  \n",
        "  \n",
        "# sim coseno\n",
        "  \n",
        "G1v = [0, \n",
        "       ic_G1[0], 0, \n",
        "       0, 0, 0, \n",
        "       ic_G1[1], 0, 0, 0, 0, \n",
        "       ic_G1[2], 0, 0, 0,\n",
        "       0, 0,\n",
        "       0, 0,\n",
        "       0, 0,\n",
        "       0,\n",
        "       0,\n",
        "       0]\n",
        "\n",
        "G2v = [0, \n",
        "       ic_G2[0], 0, \n",
        "       0, 0, 0, \n",
        "       0, ic_G2[1], 0, 0, 0, \n",
        "       0, ic_G2[2], 0, 0,\n",
        "       0, 0,\n",
        "       0, 0,\n",
        "       0, 0,\n",
        "       0,\n",
        "       0,\n",
        "       0]\n",
        "\n",
        "G3v = [0, \n",
        "       ic_G3[0], 0, \n",
        "       0, 0, 0, \n",
        "       0, 0, 0, 0, 0, \n",
        "       0, 0, ic_G3[1], 0,\n",
        "       0, ic_G3[2],\n",
        "       0, 0,\n",
        "       0, 0,\n",
        "       0,\n",
        "       0,\n",
        "       0]\n",
        "\n",
        "punto1 = np.array(G1v) @ np.array(G2v)\n",
        "punto2 = np.array(G3v) @ np.array(G2v)\n",
        "\n",
        "G1_snorm = 0\n",
        "for x in G1v:\n",
        "  G1_snorm += x**2\n",
        "  \n",
        "G2_snorm = 0\n",
        "for x in G2v:\n",
        "  G2_snorm += x**2\n",
        "  \n",
        "G3_snorm = 0\n",
        "for x in G3v:\n",
        "  G3_snorm += x**2\n",
        "  \n",
        "sims[0,6] = punto1 / (G1_snorm + G2_snorm - punto1)\n",
        "sims[0,7] = punto2 / (G3_snorm + G2_snorm - punto2)\n",
        "\n",
        "# min_sim_res_1(G1 vs G2) min_sim_res_2(G2 vs G3) min_lin_1 min_lin_2 min_rel_1 min_rel_2 cos_1 cos_2\n",
        "# avg_sim_res_1(G1 vs G2) avg_sim_res_2(G2 vs G3) avg_lin_1 avg_lin_2 avg_rel_1 avg_rel_2 0     0\n",
        "# max_sim_res_1(G1 vs G2) max_sim_res_2(G2 vs G3) max_lin_1 max_lin_2 max_rel_1 max_rel_2 0     0\n",
        "\n",
        "\n",
        "print(\"Comparaciones de medidas por grupos, comparando contra G2\")\n",
        "print(\"   Measure           vs G1               vs G3       \")\n",
        "print(\"------------- ------------------- -------------------\")\n",
        "print(\"resnik    min {sim1:.16f}  {sim2:.16f}\".format(sim1=sims[0,0], sim2=sims[0,1]))\n",
        "print(\"lin       min {sim1:.16f}  {sim2:.16f}\".format(sim1=sims[0,2], sim2=sims[0,3]))\n",
        "print(\"relevance min {sim1:.16f}  {sim2:.16f}\".format(sim1=sims[0,4], sim2=sims[0,5]))\n",
        "print(\"\")\n",
        "print(\"resnik    avg {sim1:.16f}  {sim2:.16f}\".format(sim1=sims[1,0], sim2=sims[1,1]))\n",
        "print(\"lin       avg {sim1:.16f}  {sim2:.16f}\".format(sim1=sims[1,2], sim2=sims[1,3]))\n",
        "print(\"relevance avg {sim1:.16f}  {sim2:.16f}\".format(sim1=sims[1,4], sim2=sims[1,5]))\n",
        "print(\"\")\n",
        "print(\"resnik    max {sim1:.16f}  {sim2:.16f}\".format(sim1=sims[2,0], sim2=sims[2,1]))\n",
        "print(\"lin       max {sim1:.16f}  {sim2:.16f}\".format(sim1=sims[2,2], sim2=sims[2,3]))\n",
        "print(\"relevance max {sim1:.16f}  {sim2:.16f}\".format(sim1=sims[2,4], sim2=sims[2,5]))\n",
        "print(\"\")\n",
        "print(\"cosine        {sim1:.16f}  {sim2:.16f}\".format(sim1=sims[0,6], sim2=sims[0,7]))"
      ],
      "execution_count": 0,
      "outputs": [
        {
          "output_type": "stream",
          "text": [
            "Comparaciones de medidas por grupos, comparando contra G2\n",
            "   Measure           vs G1               vs G3       \n",
            "------------- ------------------- -------------------\n",
            "resnik    min -0.0000000000000000  -0.0000000000000000\n",
            "lin       min -0.0000000000000000  -0.0000000000000000\n",
            "relevance min -0.0000000000000000  -0.0000000000000000\n",
            "\n",
            "resnik    avg 0.0833016291382722  0.3741384035251289\n",
            "lin       avg 0.2063489276867320  0.4184816018499463\n",
            "relevance avg 0.0902849824594326  0.3048833827732753\n",
            "\n",
            "resnik    max 0.2499048874148165  0.8068219201840938\n",
            "lin       max 1.0000000000000000  1.0000000000000000\n",
            "relevance max 0.4375355058616950  0.5949759444135203\n",
            "\n",
            "cosine        0.0063271981687205  0.0111513939118874\n"
          ],
          "name": "stdout"
        }
      ]
    },
    {
      "cell_type": "markdown",
      "metadata": {
        "id": "6EzF9f7WvLKo",
        "colab_type": "text"
      },
      "source": [
        "## Análisis de resultados\n",
        "\n",
        "*   En el caso de las medidas en los nodos que toman el valor mínimo, como los genes tienen una función en común esta medida da 0, porque se compara una función con si misma.\n",
        "*   Las similitudes con promedio dan los valores esperados, mayor para la comparación con G3 en donde tienen un ancestro común más informativo.\n",
        "*  Las medidas de resnik y relevance funcionan bien con el máximo, pero lin no, esto es porque la función está definida para devolver 1 si compara el mismo término.\n",
        "*  La medida del coseno da mayor para la segunda comparación, que es lo que se esperaba.\n",
        "\n",
        "\n"
      ]
    },
    {
      "cell_type": "markdown",
      "metadata": {
        "id": "ilz5-1yzytqg",
        "colab_type": "text"
      },
      "source": [
        "# Tercer caso de prueba\n",
        "\n",
        "En este caso los genes elegidos tienen más de una función en común:\n",
        "\n",
        "![alt text](https://raw.githubusercontent.com/TiagoNLopez/stuff/master/go_test3.jpg)"
      ]
    },
    {
      "cell_type": "code",
      "metadata": {
        "id": "lrL_A_tezYDo",
        "colab_type": "code",
        "outputId": "dd1c4a59-6c6c-4837-8e6b-87f431c0d3b0",
        "colab": {
          "base_uri": "https://localhost:8080/",
          "height": 384
        }
      },
      "source": [
        "G_go_id = [ [\"GO:0051817\",\"GO:0052249\",\"GO:0052018\",\"GO:0009616\",\"GO:0060150\"],\n",
        "            [\"GO:0051701\",\"GO:0044003\",\"GO:0052018\",\"GO:0009616\",\"GO:0060150\"],\n",
        "            [\"GO:0051707\",\"GO:0009615\",\"GO:0098586\",\"GO:0009616\",\"GO:0060150\"] ]\n",
        "\n",
        "print(\"Gen 1:\")\n",
        "for func in G_go_id[0]:\n",
        "   print(godag[func])\n",
        "print(\" \")\n",
        "\n",
        "print(\"Gen 2:\")\n",
        "for func in G_go_id[1]:\n",
        "   print(godag[func])\n",
        "print(\" \")\n",
        "\n",
        "print(\"Gen 3:\")\n",
        "for func in G_go_id[2]:\n",
        "   print(godag[func])"
      ],
      "execution_count": 0,
      "outputs": [
        {
          "output_type": "stream",
          "text": [
            "Gen 1:\n",
            "GO:0051817\tlevel-04\tdepth-04\tmodification of morphology or physiology of other organism involved in symbiotic interaction [biological_process]\n",
            "GO:0052249\tlevel-05\tdepth-05\tmodulation of RNA levels in other organism involved in symbiotic interaction [biological_process]\n",
            "GO:0052018\tlevel-06\tdepth-06\tmodulation by symbiont of RNA levels in host [biological_process]\n",
            "GO:0009616\tlevel-04\tdepth-07\tvirus induced gene silencing [biological_process]\n",
            "GO:0060150\tlevel-06\tdepth-09\tviral triggering of virus induced gene silencing [biological_process]\n",
            " \n",
            "Gen 2:\n",
            "GO:0051701\tlevel-04\tdepth-04\tinteraction with host [biological_process]\n",
            "GO:0044003\tlevel-05\tdepth-05\tmodification by symbiont of host morphology or physiology [biological_process]\n",
            "GO:0052018\tlevel-06\tdepth-06\tmodulation by symbiont of RNA levels in host [biological_process]\n",
            "GO:0009616\tlevel-04\tdepth-07\tvirus induced gene silencing [biological_process]\n",
            "GO:0060150\tlevel-06\tdepth-09\tviral triggering of virus induced gene silencing [biological_process]\n",
            " \n",
            "Gen 3:\n",
            "GO:0051707\tlevel-02\tdepth-04\tresponse to other organism [biological_process]\n",
            "GO:0009615\tlevel-03\tdepth-05\tresponse to virus [biological_process]\n",
            "GO:0098586\tlevel-04\tdepth-06\tcellular response to virus [biological_process]\n",
            "GO:0009616\tlevel-04\tdepth-07\tvirus induced gene silencing [biological_process]\n",
            "GO:0060150\tlevel-06\tdepth-09\tviral triggering of virus induced gene silencing [biological_process]\n"
          ],
          "name": "stdout"
        }
      ]
    },
    {
      "cell_type": "code",
      "metadata": {
        "id": "v3V8Agce1CCw",
        "colab_type": "code",
        "colab": {}
      },
      "source": [
        "# min_sim_res_1(G1 vs G2) min_sim_res_2(G2 vs G3) min_lin_1 min_lin_2 min_rel_1 min_rel_2 cos_1 cos_2\n",
        "# avg_sim_res_1(G1 vs G2) avg_sim_res_2(G2 vs G3) avg_lin_1 avg_lin_2 avg_rel_1 avg_rel_2 0     0\n",
        "# max_sim_res_1(G1 vs G2) max_sim_res_2(G2 vs G3) max_lin_1 max_lin_2 max_rel_1 max_rel_2 0     0\n",
        "\n",
        "sims = np.zeros((3,8))\n",
        "res = []\n",
        "lin = []\n",
        "rel = []\n",
        "\n",
        "for func1 in G_go_id[0]:\n",
        "  for func2 in G_go_id[1]:\n",
        "    res.append(resnik_sim(func1, func2, godag, termcounts))\n",
        "    lin.append(lin_sim(func1, func2, godag, termcounts))\n",
        "    rel.append(rel_sim(func1, func2, godag, termcounts))\n",
        "    \n",
        "sims[0,0]=min(res)\n",
        "sims[1,0]=sum(res)/9\n",
        "sims[2,0]=max(res)\n",
        "\n",
        "sims[0,2]=min(lin)\n",
        "sims[1,2]=sum(lin)/9\n",
        "sims[2,2]=max(lin)\n",
        "\n",
        "sims[0,4]=min(rel)\n",
        "sims[1,4]=sum(rel)/9\n",
        "sims[2,4]=max(rel)\n",
        "\n",
        "res = []\n",
        "lin = []\n",
        "rel = []\n",
        "for func1 in G_go_id[2]:\n",
        "  for func2 in G_go_id[1]:\n",
        "    res.append(resnik_sim(func1, func2, godag, termcounts))\n",
        "    lin.append(lin_sim(func1, func2, godag, termcounts))\n",
        "    rel.append(rel_sim(func1, func2, godag, termcounts))\n",
        "    \n",
        "sims[0,1]=min(res)\n",
        "sims[1,1]=sum(res)/9\n",
        "sims[2,1]=max(res)\n",
        "\n",
        "sims[0,3]=min(lin)\n",
        "sims[1,3]=sum(lin)/9\n",
        "sims[2,3]=max(lin)\n",
        "\n",
        "sims[0,5]=min(rel)\n",
        "sims[1,5]=sum(rel)/9\n",
        "sims[2,5]=max(rel)\n",
        "\n",
        "ic_G1 = []\n",
        "for func in G_go_id[0]:\n",
        "  ic_G1.append(get_info_content(func,termcounts))\n",
        "\n",
        "ic_G2 = []\n",
        "for func in G_go_id[1]:\n",
        "  ic_G2.append(get_info_content(func,termcounts))\n",
        "\n",
        "ic_G3 = []\n",
        "for func in G_go_id[2]:\n",
        "  ic_G3.append(get_info_content(func,termcounts))\n",
        "  \n",
        "ic = [ ic_G1, ic_G2, ic_G3 ]\n",
        "\n",
        "# sim coseno\n",
        "  \n",
        "G1v = [0,\n",
        "       0, 0, 0, 0,\n",
        "       0, 0, 0, 0, 0, 0,\n",
        "       ic[0][0], 0, 0, 0, 0, 0,\n",
        "       ic[0][1], 0, 0, 0, 0, 0, 0,\n",
        "       ic[0][2], 0, 0, 0, 0,\n",
        "       ic[0][3], 0,\n",
        "       0,\n",
        "       ic[0][4]]\n",
        "\n",
        "G2v = [0,\n",
        "       0, 0, 0, 0,\n",
        "       0, 0, 0, 0, 0, 0,\n",
        "       0, ic[1][0], 0, 0, 0, 0,\n",
        "       0, ic[1][1], 0, 0, 0, 0, 0,\n",
        "       ic[1][2], 0, 0, 0, 0,\n",
        "       ic[1][3], 0,\n",
        "       0,\n",
        "       ic[1][4]]\n",
        "\n",
        "G3v = [0,\n",
        "       0, 0, 0, 0,\n",
        "       0, 0, 0, 0, 0, 0,\n",
        "       0, 0, ic[2][0], 0, 0, 0,\n",
        "       0, 0, ic[2][1], 0, 0, 0, 0,\n",
        "       0, 0, ic[2][2], 0, 0,\n",
        "       ic[2][3], 0,\n",
        "       0,\n",
        "       ic[2][4]]\n",
        "\n",
        "punto1 = np.array(G1v) @ np.array(G2v)\n",
        "punto2 = np.array(G3v) @ np.array(G2v)\n",
        "\n",
        "G1_snorm = 0\n",
        "for x in G1v:\n",
        "  G1_snorm += x**2\n",
        "  \n",
        "G2_snorm = 0\n",
        "for x in G2v:\n",
        "  G2_snorm += x**2\n",
        "  \n",
        "G3_snorm = 0\n",
        "for x in G3v:\n",
        "  G3_snorm += x**2\n",
        "  \n",
        "sims[0,6] = punto1 / (G1_snorm + G2_snorm - punto1)\n",
        "sims[0,7] = punto2 / (G3_snorm + G2_snorm - punto2)\n",
        "\n",
        "print(\"Comparaciones de medidas por grupos, comparando contra G2\")\n",
        "print(\"   Measure           vs G1               vs G3       \")\n",
        "print(\"------------- ------------------- -------------------\")\n",
        "print(\"resnik    min {sim1:.16f}  {sim2:.16f}\".format(sim1=sims[0,0], sim2=sims[0,1]))\n",
        "print(\"lin       min {sim1:.16f}  {sim2:.16f}\".format(sim1=sims[0,2], sim2=sims[0,3]))\n",
        "print(\"relevance min {sim1:.16f}  {sim2:.16f}\".format(sim1=sims[0,4], sim2=sims[0,5]))\n",
        "print(\"\")\n",
        "print(\"resnik    avg {sim1:.16f}  {sim2:.16f}\".format(sim1=sims[1,0], sim2=sims[1,1]))\n",
        "print(\"lin       avg {sim1:.16f}  {sim2:.16f}\".format(sim1=sims[1,2], sim2=sims[1,3]))\n",
        "print(\"relevance avg {sim1:.16f}  {sim2:.16f}\".format(sim1=sims[1,4], sim2=sims[1,5]))\n",
        "print(\"\")\n",
        "print(\"resnik    max {sim1:.16f}  {sim2:.16f}\".format(sim1=sims[2,0], sim2=sims[2,1]))\n",
        "print(\"lin       max {sim1:.16f}  {sim2:.16f}\".format(sim1=sims[2,2], sim2=sims[2,3]))\n",
        "print(\"relevance max {sim1:.16f}  {sim2:.16f}\".format(sim1=sims[2,4], sim2=sims[2,5]))\n",
        "print(\"\")\n",
        "print(\"cosine        {sim1:.16f}  {sim2:.16f}\".format(sim1=sims[0,6], sim2=sims[0,7]))"
      ],
      "execution_count": 0,
      "outputs": []
    },
    {
      "cell_type": "markdown",
      "metadata": {
        "id": "WqqG04hQD1Fh",
        "colab_type": "text"
      },
      "source": [
        "### Análisis de resultados:\n",
        "\n",
        "*   En la medida de mínimo se toma la comparación entre los elementos iguales.\n",
        "*   Las medidas de promedio dan resultados esperados.\n",
        "*   En los casos de máximos, todas las medidas se quedan con el mayor resultado de la comparación de funciones iguales.\n",
        "*   Coseno da el resultado esperado, mayor en el primer caso."
      ]
    },
    {
      "cell_type": "markdown",
      "metadata": {
        "id": "oKDJwTZ1MKJn",
        "colab_type": "text"
      },
      "source": [
        "# Caso de prueba coseno\n",
        "\n",
        "En este caso se busca comparar la medida de coseno con funciones de igual distribución pero a distintas profundidades del grafo.\n",
        "\n",
        "![alt text](https://raw.githubusercontent.com/TiagoNLopez/stuff/master/go_test4.png)"
      ]
    },
    {
      "cell_type": "code",
      "metadata": {
        "id": "PZ0THhgrMjkB",
        "colab_type": "code",
        "outputId": "f88e4d47-1d80-4f5c-90df-a35a2f0e7d38",
        "colab": {
          "base_uri": "https://localhost:8080/",
          "height": 298
        }
      },
      "source": [
        "G_go_id = [ [\"GO:0050794\",\"GO:0048522\"],\n",
        "            [\"GO:0048518\",\"GO:0048522\"],\n",
        "            [\"GO:0016458\",\"GO:0016441\"],\n",
        "            [\"GO:0010608\",\"GO:0016441\"] ]\n",
        "\n",
        "print(\"Gen 1:\")\n",
        "for func in G_go_id[0]:\n",
        "   print(godag[func])\n",
        "print(\" \")\n",
        "\n",
        "print(\"Gen 2:\")\n",
        "for func in G_go_id[1]:\n",
        "   print(godag[func])\n",
        "print(\" \")\n",
        "\n",
        "print(\"Gen 3:\")\n",
        "for func in G_go_id[2]:\n",
        "   print(godag[func])\n",
        "print(\" \")\n",
        "    \n",
        "print(\"Gen 4:\")\n",
        "for func in G_go_id[3]:\n",
        "   print(godag[func])"
      ],
      "execution_count": 0,
      "outputs": [
        {
          "output_type": "stream",
          "text": [
            "Gen 1:\n",
            "GO:0050794\tlevel-03\tdepth-03\tregulation of cellular process [biological_process]\n",
            "GO:0048522\tlevel-04\tdepth-04\tpositive regulation of cellular process [biological_process]\n",
            " \n",
            "Gen 2:\n",
            "GO:0048518\tlevel-03\tdepth-03\tpositive regulation of biological process [biological_process]\n",
            "GO:0048522\tlevel-04\tdepth-04\tpositive regulation of cellular process [biological_process]\n",
            " \n",
            "Gen 3:\n",
            "GO:0016458\tlevel-02\tdepth-07\tgene silencing [biological_process]\n",
            "GO:0016441\tlevel-03\tdepth-08\tposttranscriptional gene silencing [biological_process]\n",
            " \n",
            "Gen 4:\n",
            "GO:0010608\tlevel-06\tdepth-06\tposttranscriptional regulation of gene expression [biological_process]\n",
            "GO:0016441\tlevel-03\tdepth-08\tposttranscriptional gene silencing [biological_process]\n"
          ],
          "name": "stdout"
        }
      ]
    },
    {
      "cell_type": "code",
      "metadata": {
        "id": "BcAbNATnNWQm",
        "colab_type": "code",
        "outputId": "4af63308-6c42-4fef-ad74-3e24835ce1bf",
        "colab": {
          "base_uri": "https://localhost:8080/",
          "height": 52
        }
      },
      "source": [
        "ic_G1 = []\n",
        "for func in G_go_id[0]:\n",
        "  ic_G1.append(get_info_content(func,termcounts))\n",
        "\n",
        "ic_G2 = []\n",
        "for func in G_go_id[1]:\n",
        "  ic_G2.append(get_info_content(func,termcounts))\n",
        "\n",
        "ic_G3 = []\n",
        "for func in G_go_id[2]:\n",
        "  ic_G3.append(get_info_content(func,termcounts))\n",
        "\n",
        "ic_G4 = []\n",
        "for func in G_go_id[3]:\n",
        "  ic_G4.append(get_info_content(func,termcounts))\n",
        "  \n",
        "ic = [ ic_G1, ic_G2, ic_G3, ic_G4 ]\n",
        "\n",
        "# sim coseno\n",
        "  \n",
        "G1v = [0,\n",
        "       0, 0,\n",
        "       0, 0, 0,\n",
        "       ic[0][0], 0, 0, 0, 0,\n",
        "       ic[0][1], 0, 0, 0,\n",
        "       0, 0,\n",
        "       0, 0,\n",
        "       0, 0,\n",
        "       0, 0,\n",
        "       0,\n",
        "       0, \n",
        "       0]\n",
        "\n",
        "G2v = [0,\n",
        "       0, 0,\n",
        "       0, 0, 0,\n",
        "       0, ic[1][0], 0, 0, 0,\n",
        "       ic[1][1], 0, 0, 0,\n",
        "       0, 0,\n",
        "       0, 0,\n",
        "       0, 0,\n",
        "       0, 0,\n",
        "       0,\n",
        "       0, \n",
        "       0]\n",
        "\n",
        "G3v = [0,\n",
        "       0, 0,\n",
        "       0, 0, 0,\n",
        "       0, 0, 0, 0, 0,\n",
        "       0, 0, 0, 0,\n",
        "       0, 0,\n",
        "       0, 0,\n",
        "       ic[2][0], 0,\n",
        "       0, ic[2][1],\n",
        "       0,\n",
        "       0, \n",
        "       0]\n",
        "\n",
        "G4v = [0,\n",
        "       0, 0,\n",
        "       0, 0, 0,\n",
        "       0, 0, 0, 0, 0,\n",
        "       0, 0, 0, 0,\n",
        "       0, 0,\n",
        "       0, 0,\n",
        "       0, ic[3][0],\n",
        "       0, ic[3][1],\n",
        "       0,\n",
        "       0, \n",
        "       0]\n",
        "\n",
        "punto1 = np.array(G1v) @ np.array(G2v)\n",
        "punto2 = np.array(G3v) @ np.array(G4v)\n",
        "\n",
        "G1_snorm = 0\n",
        "for x in G1v:\n",
        "  G1_snorm += x**2\n",
        "  \n",
        "G2_snorm = 0\n",
        "for x in G2v:\n",
        "  G2_snorm += x**2\n",
        "  \n",
        "G3_snorm = 0\n",
        "for x in G3v:\n",
        "  G3_snorm += x**2\n",
        "  \n",
        "G4_snorm = 0\n",
        "for x in G4v:\n",
        "  G4_snorm += x**2\n",
        "  \n",
        "coseno_1 = punto1 / (G1_snorm + G2_snorm - punto1)\n",
        "coseno_2 = punto2 / (G3_snorm + G4_snorm - punto2)\n",
        "\n",
        "print(\"Coseno G1 vs G2: \", coseno_1)\n",
        "print(\"Coseno G3 vs G4: \", coseno_2)"
      ],
      "execution_count": 0,
      "outputs": [
        {
          "output_type": "stream",
          "text": [
            "Coseno G1 vs G2:  0.48191553540485654\n",
            "Coseno G3 vs G4:  0.4148858544240285\n"
          ],
          "name": "stdout"
        }
      ]
    }
  ]
}