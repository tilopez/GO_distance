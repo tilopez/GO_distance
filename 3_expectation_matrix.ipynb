{
  "nbformat": 4,
  "nbformat_minor": 0,
  "metadata": {
    "colab": {
      "name": "3- expectation_matrix",
      "provenance": [],
      "collapsed_sections": [],
      "include_colab_link": true
    },
    "kernelspec": {
      "name": "python3",
      "display_name": "Python 3"
    }
  },
  "cells": [
    {
      "cell_type": "markdown",
      "metadata": {
        "id": "view-in-github",
        "colab_type": "text"
      },
      "source": [
        "<a href=\"https://colab.research.google.com/github/tilopez/GO_distance/blob/master/3_expectation_matrix.ipynb\" target=\"_parent\"><img src=\"https://colab.research.google.com/assets/colab-badge.svg\" alt=\"Open In Colab\"/></a>"
      ]
    },
    {
      "cell_type": "markdown",
      "metadata": {
        "id": "xzJlIU74XdXW",
        "colab_type": "text"
      },
      "source": [
        "# Idea"
      ]
    },
    {
      "cell_type": "code",
      "metadata": {
        "id": "UBy6bmub6akp",
        "colab_type": "code",
        "colab": {}
      },
      "source": [
        "import numpy as np"
      ],
      "execution_count": 0,
      "outputs": []
    },
    {
      "cell_type": "code",
      "metadata": {
        "id": "rKTM93t8S3xm",
        "colab_type": "code",
        "outputId": "c6dbe282-1462-4815-a4f2-404212082057",
        "colab": {
          "base_uri": "https://localhost:8080/"
        }
      },
      "source": [
        "# matriz de distancias entre 5 genes\n",
        "dist_nom = [['0', 'A', 'B', 'C', 'D'],['A', '0', 'E', 'F', 'G'],['B', 'E', '0', 'H', 'I'],['C', 'F', 'H', '0', 'J'],['D', 'G', 'I', 'J', '0']]\n",
        "for i in dist_nom:\n",
        "  print(i)"
      ],
      "execution_count": 0,
      "outputs": [
        {
          "output_type": "stream",
          "text": [
            "['0', 'A', 'B', 'C', 'D']\n",
            "['A', '0', 'E', 'F', 'G']\n",
            "['B', 'E', '0', 'H', 'I']\n",
            "['C', 'F', 'H', '0', 'J']\n",
            "['D', 'G', 'I', 'J', '0']\n"
          ],
          "name": "stdout"
        }
      ]
    },
    {
      "cell_type": "code",
      "metadata": {
        "id": "FerTMW3wS8Ll",
        "colab_type": "code",
        "outputId": "839ed6bb-841f-4386-f5a5-d4249cdd31b1",
        "colab": {
          "base_uri": "https://localhost:8080/"
        }
      },
      "source": [
        "# matriz de resultados esperados\n",
        "exp = [['AB', 'AC', 'AD', 'BC', 'BD', 'CD'],\n",
        "        ['AE', 'AF', 'AG', 'EF', 'EG', 'FG'],\n",
        "        ['BE', 'BH', 'BI', 'EH', 'EI', 'HI'],\n",
        "        ['CF', 'CH', 'CJ', 'FH', 'FJ', 'HJ'],\n",
        "        ['DG', 'DI', 'DJ', 'GI', 'GJ', 'IJ'],]\n",
        "for i in exp:\n",
        "  print(i)"
      ],
      "execution_count": 0,
      "outputs": [
        {
          "output_type": "stream",
          "text": [
            "['AB', 'AC', 'AD', 'BC', 'BD', 'CD']\n",
            "['AE', 'AF', 'AG', 'EF', 'EG', 'FG']\n",
            "['BE', 'BH', 'BI', 'EH', 'EI', 'HI']\n",
            "['CF', 'CH', 'CJ', 'FH', 'FJ', 'HJ']\n",
            "['DG', 'DI', 'DJ', 'GI', 'GJ', 'IJ']\n"
          ],
          "name": "stdout"
        }
      ]
    },
    {
      "cell_type": "code",
      "metadata": {
        "id": "M9WUygf05nnl",
        "colab_type": "code",
        "outputId": "1040c9ec-6c04-4292-81e0-1a76ab17936e",
        "colab": {
          "base_uri": "https://localhost:8080/"
        }
      },
      "source": [
        "# matriz de distancias de prueba\n",
        "n = 5\n",
        "dist = np.zeros((n,n))\n",
        "for j in range(n):\n",
        "  for i in range(j):\n",
        "    dist[i,j] = i+j\n",
        "dist = dist + dist.T\n",
        "print(dist)"
      ],
      "execution_count": 0,
      "outputs": [
        {
          "output_type": "stream",
          "text": [
            "[[0. 1. 2. 3. 4.]\n",
            " [1. 0. 3. 4. 5.]\n",
            " [2. 3. 0. 5. 6.]\n",
            " [3. 4. 5. 0. 7.]\n",
            " [4. 5. 6. 7. 0.]]\n"
          ],
          "name": "stdout"
        }
      ]
    },
    {
      "cell_type": "code",
      "metadata": {
        "id": "-1R7IfglVwtP",
        "colab_type": "code",
        "outputId": "5318f93b-891b-4b44-9be6-402cc5ec0122",
        "colab": {
          "base_uri": "https://localhost:8080/"
        }
      },
      "source": [
        "# codificacion de la comparaciones\n",
        "m = 0\n",
        "for i in range(2,n):\n",
        "  m = m + n - i\n",
        "\n",
        "# 0 si A < B\n",
        "# 1 si A = B\n",
        "# 2 si A > B\n",
        "\n",
        "# matriz de resultados esperados\n",
        "exp = np.zeros((n,m))\n",
        "\n",
        "exp[0,0] = 0\n",
        "exp[0,1] = 0\n",
        "exp[0,2] = 0\n",
        "exp[0,3] = 1\n",
        "exp[0,4] = 0\n",
        "exp[0,5] = 0\n",
        "\n",
        "exp[1,0] = 0\n",
        "exp[1,1] = 0\n",
        "exp[1,2] = 1\n",
        "exp[1,3] = 1\n",
        "exp[1,4] = 0\n",
        "exp[1,5] = 0\n",
        "\n",
        "exp[2,0] = 1\n",
        "exp[2,1] = 1\n",
        "exp[2,2] = 2\n",
        "exp[2,3] = 2\n",
        "exp[2,4] = 1\n",
        "exp[2,5] = 1\n",
        "\n",
        "exp[3,0] = 0\n",
        "exp[3,1] = 0\n",
        "exp[3,2] = 1\n",
        "exp[3,3] = 1\n",
        "exp[3,4] = 0\n",
        "exp[3,5] = 0\n",
        "\n",
        "exp[4,0] = 0\n",
        "exp[4,1] = 0\n",
        "exp[4,2] = 1\n",
        "exp[4,3] = 0\n",
        "exp[4,4] = 0\n",
        "exp[4,5] = 0\n",
        "\n",
        "print(exp)"
      ],
      "execution_count": 0,
      "outputs": [
        {
          "output_type": "stream",
          "text": [
            "[[0. 0. 0. 1. 0. 0.]\n",
            " [0. 0. 1. 1. 0. 0.]\n",
            " [1. 1. 2. 2. 1. 1.]\n",
            " [0. 0. 1. 1. 0. 0.]\n",
            " [0. 0. 1. 0. 0. 0.]]\n"
          ],
          "name": "stdout"
        }
      ]
    },
    {
      "cell_type": "code",
      "metadata": {
        "id": "kcRivSGu6Xz8",
        "colab_type": "code",
        "outputId": "6d4abba7-1afb-4b31-c2b8-ab066ef95192",
        "colab": {
          "base_uri": "https://localhost:8080/"
        }
      },
      "source": [
        "# armar la matriz de las comparaciones entre distancias\n",
        "m = 0\n",
        "for i in range(2,n):\n",
        "  m = m + n - i\n",
        "\n",
        "rta = np.zeros((n,m))\n",
        "\n",
        "for i in range(n):\n",
        "  fila_dist = np.concatenate((dist[i,0:i],dist[i,i+1:n]))\n",
        "  comps = np.zeros(m)\n",
        "  cont = 0\n",
        "  for j in range(n-2):\n",
        "    for k in range(j+1,n-1):\n",
        "      comps[cont] = 0 if fila_dist[j] < fila_dist[k] else 1 if fila_dist[j] == fila_dist[k] else 2\n",
        "      cont = cont + 1\n",
        "  rta[i,:] = comps\n",
        "\n",
        "print(rta)"
      ],
      "execution_count": 0,
      "outputs": [
        {
          "output_type": "stream",
          "text": [
            "[[0. 0. 0. 0. 0. 0.]\n",
            " [0. 0. 0. 0. 0. 0.]\n",
            " [0. 0. 0. 0. 0. 0.]\n",
            " [0. 0. 0. 0. 0. 0.]\n",
            " [0. 0. 0. 0. 0. 0.]]\n"
          ],
          "name": "stdout"
        }
      ]
    },
    {
      "cell_type": "code",
      "metadata": {
        "id": "K31V3XABP00d",
        "colab_type": "code",
        "outputId": "13ede141-d53c-4cb8-8d5f-874220a86952",
        "colab": {
          "base_uri": "https://localhost:8080/"
        }
      },
      "source": [
        "eva = []\n",
        "\n",
        "for i in range(n):\n",
        "  word = []\n",
        "  for j in range(m):\n",
        "    if rta[i,j] == exp[i,j]:\n",
        "      word.append(\"right\")\n",
        "    else:\n",
        "      word.append(\"WRONG\")\n",
        "  eva.append(word)\n",
        "\n",
        "print(rta,'\\n')\n",
        "print(exp,'\\n')\n",
        "for i in eva:\n",
        "  print(i)"
      ],
      "execution_count": 0,
      "outputs": [
        {
          "output_type": "stream",
          "text": [
            "[[0. 0. 0. 0. 0. 0.]\n",
            " [0. 0. 0. 0. 0. 0.]\n",
            " [0. 0. 0. 0. 0. 0.]\n",
            " [0. 0. 0. 0. 0. 0.]\n",
            " [0. 0. 0. 0. 0. 0.]] \n",
            "\n",
            "[[0. 0. 0. 1. 0. 0.]\n",
            " [0. 0. 1. 1. 0. 0.]\n",
            " [1. 1. 2. 2. 1. 1.]\n",
            " [0. 0. 1. 1. 0. 0.]\n",
            " [0. 0. 1. 0. 0. 0.]] \n",
            "\n",
            "['right', 'right', 'right', 'WRONG', 'right', 'right']\n",
            "['right', 'right', 'WRONG', 'WRONG', 'right', 'right']\n",
            "['WRONG', 'WRONG', 'WRONG', 'WRONG', 'WRONG', 'WRONG']\n",
            "['right', 'right', 'WRONG', 'WRONG', 'right', 'right']\n",
            "['right', 'right', 'WRONG', 'right', 'right', 'right']\n"
          ],
          "name": "stdout"
        }
      ]
    },
    {
      "cell_type": "markdown",
      "metadata": {
        "id": "PKFsEeJJYGO6",
        "colab_type": "text"
      },
      "source": [
        "# Función"
      ]
    },
    {
      "cell_type": "code",
      "metadata": {
        "id": "JrMOy_NucvxP",
        "colab_type": "code",
        "colab": {}
      },
      "source": [
        "def exp_matrix( dist, exp ):\n",
        "  dist = dist.round(8)\n",
        "  rta = np.zeros(exp.shape)\n",
        "  [n,m] = exp.shape\n",
        "\n",
        "  for i in range(n):\n",
        "    fila_dist = np.concatenate((dist[i,0:i],dist[i,i+1:n]))\n",
        "    comps = np.zeros(m)\n",
        "    cont = 0\n",
        "    for j in range(n-2):\n",
        "      for k in range(j+1,n-1):\n",
        "        comps[cont] = 0 if fila_dist[j] < fila_dist[k] else 1 if fila_dist[j] == fila_dist[k] else 2\n",
        "        cont = cont + 1\n",
        "    rta[i,:] = comps\n",
        "\n",
        "  eva = []\n",
        "  genes = []\n",
        "  cant = 0\n",
        "\n",
        "  for i in range(n):\n",
        "    word = []\n",
        "    for j in range(m):\n",
        "      if rta[i,j] == exp[i,j]:\n",
        "        word.append(\"right\")\n",
        "      else:      \n",
        "        word.append(\"WRONG\")\n",
        "        cant += 1\n",
        "        \n",
        "        # determinar los genes que dieron el error\n",
        "        cont = 0\n",
        "        for k in range(n-1):\n",
        "          for l in range(k,n):\n",
        "            if k != i and l != i and k != l:\n",
        "              if cont == j:\n",
        "                genes.append([i+1, k+1, l+1])\n",
        "              cont += 1\n",
        "\n",
        "    eva.append(word)\n",
        "\n",
        "  return(eva,cant,genes)"
      ],
      "execution_count": 0,
      "outputs": []
    },
    {
      "cell_type": "code",
      "metadata": {
        "id": "ByKZ3o3qea7u",
        "colab_type": "code",
        "outputId": "f794bb47-9b84-41fb-d1cc-9f42ec608846",
        "colab": {
          "base_uri": "https://localhost:8080/",
          "height": 364
        }
      },
      "source": [
        "[exps,cant,genes]=exp_matrix(dist,exp)\n",
        "print(\"Nro de errores: \", cant)\n",
        "print(\" \")\n",
        "for i in exps:\n",
        "  print(i)\n",
        "print(\" \")\n",
        "for i in genes:\n",
        "  print(i)"
      ],
      "execution_count": 0,
      "outputs": [
        {
          "output_type": "stream",
          "text": [
            "Nro de errores:  12\n",
            " \n",
            "['right', 'right', 'right', 'WRONG', 'right', 'right']\n",
            "['right', 'right', 'WRONG', 'WRONG', 'right', 'right']\n",
            "['WRONG', 'WRONG', 'WRONG', 'WRONG', 'WRONG', 'WRONG']\n",
            "['right', 'right', 'WRONG', 'WRONG', 'right', 'right']\n",
            "['right', 'right', 'WRONG', 'right', 'right', 'right']\n",
            " \n",
            "[1, 3, 4]\n",
            "[2, 1, 5]\n",
            "[2, 3, 4]\n",
            "[3, 1, 2]\n",
            "[3, 1, 4]\n",
            "[3, 1, 5]\n",
            "[3, 2, 4]\n",
            "[3, 2, 5]\n",
            "[3, 4, 5]\n",
            "[4, 1, 5]\n",
            "[4, 2, 3]\n",
            "[5, 1, 4]\n"
          ],
          "name": "stdout"
        }
      ]
    },
    {
      "cell_type": "code",
      "metadata": {
        "id": "WfmuupXxacUB",
        "colab_type": "code",
        "colab": {}
      },
      "source": [
        ""
      ],
      "execution_count": 0,
      "outputs": []
    }
  ]
}